{
 "cells": [
  {
   "cell_type": "markdown",
   "metadata": {
    "colab_type": "text",
    "id": "k9tvozh5UGrJ"
   },
   "source": [
    "# Species "
   ]
  },
  {
   "cell_type": "markdown",
   "metadata": {
    "colab_type": "text",
    "id": "bCHDI8cMH9DA"
   },
   "source": [
    "## Global Imports"
   ]
  },
  {
   "cell_type": "code",
   "execution_count": 18,
   "metadata": {
    "colab": {
     "base_uri": "https://localhost:8080/",
     "height": 127
    },
    "colab_type": "code",
    "id": "dPjRWfl2_uqM",
    "outputId": "5648f8ff-c90b-476d-df0a-65cda594a671"
   },
   "outputs": [],
   "source": [
    "\n",
    "import numpy as np\n",
    "import pandas as pd\n",
    "\n",
    "from numpy.random import seed\n",
    "# from tensorflow import set_random_seed\n",
    "\n",
    "# from keras.layers import Input, Dropout\n",
    "# from keras.layers.core import Dense \n",
    "# from keras.models import Model, Sequential, load_model\n",
    "# from keras import regularizers\n",
    "\n",
    "seed(10)\n",
    "# set_random_seed(10)"
   ]
  },
  {
   "cell_type": "markdown",
   "metadata": {
    "colab_type": "text",
    "id": "xm4cUnObIB1b"
   },
   "source": [
    "## Load Data"
   ]
  },
  {
   "cell_type": "code",
   "execution_count": 19,
   "metadata": {
    "colab": {
     "base_uri": "https://localhost:8080/",
     "height": 35
    },
    "colab_type": "code",
    "id": "Ovyd4Ddo_xeN",
    "outputId": "077b91cb-0720-4e3c-86e5-7f91907e1e2d"
   },
   "outputs": [
    {
     "data": {
      "text/plain": [
       "(9584, 7)"
      ]
     },
     "execution_count": 19,
     "metadata": {},
     "output_type": "execute_result"
    }
   ],
   "source": [
    "#fileName = 'Malonylation.elm'\n",
    "dataset = pd.read_excel('Book1.xlsx')\n",
    "dataset.shape"
   ]
  },
  {
   "cell_type": "code",
   "execution_count": 20,
   "metadata": {
    "colab": {
     "base_uri": "https://localhost:8080/",
     "height": 253
    },
    "colab_type": "code",
    "id": "blh5qS7BABkB",
    "outputId": "ad26aea3-6f95-48ef-9c32-77ef848ea4a6"
   },
   "outputs": [
    {
     "name": "stdout",
     "output_type": "stream",
     "text": [
      "         PLMD ID Uniprot Accession  Position          Type  \\\n",
      "0         PLMD-2            O00116       108  Malonylation   \n",
      "1         PLMD-4            O00139       336  Malonylation   \n",
      "2         PLMD-7            O00151        71  Malonylation   \n",
      "3         PLMD-7            O00151        98  Malonylation   \n",
      "4         PLMD-8            O00154       172  Malonylation   \n",
      "5         PLMD-8            O00154       286  Malonylation   \n",
      "6         PLMD-9            O00159       281  Malonylation   \n",
      "7         PLMD-9            O00159       285  Malonylation   \n",
      "8         PLMD-9            O00159       486  Malonylation   \n",
      "9         PLMD-9            O00159       571  Malonylation   \n",
      "10        PLMD-9            O00159       595  Malonylation   \n",
      "11        PLMD-9            O00159       667  Malonylation   \n",
      "12        PLMD-9            O00159       709  Malonylation   \n",
      "13       PLMD-13            O00170       112  Malonylation   \n",
      "14       PLMD-13            O00170       273  Malonylation   \n",
      "15       PLMD-17            O00186       332  Malonylation   \n",
      "16       PLMD-17            O00186       364  Malonylation   \n",
      "17       PLMD-17            O00186        76  Malonylation   \n",
      "18       PLMD-17            O00186        98  Malonylation   \n",
      "19       PLMD-20            O00193        91  Malonylation   \n",
      "20       PLMD-21            O00203       305  Malonylation   \n",
      "21       PLMD-21            O00203       337  Malonylation   \n",
      "22       PLMD-21            O00203       414  Malonylation   \n",
      "23       PLMD-21            O00203       512  Malonylation   \n",
      "24       PLMD-21            O00203       592  Malonylation   \n",
      "25       PLMD-21            O00203       596  Malonylation   \n",
      "26       PLMD-21            O00203        74  Malonylation   \n",
      "27       PLMD-21            O00203        90  Malonylation   \n",
      "28       PLMD-30            O00231       185  Malonylation   \n",
      "29       PLMD-31            O00232       212  Malonylation   \n",
      "...          ...               ...       ...           ...   \n",
      "9554  PLMD-48993            F8VPN4      1406  Malonylation   \n",
      "9555  PLMD-48993            F8VPN4      1476  Malonylation   \n",
      "9556  PLMD-48993            F8VPN4        20  Malonylation   \n",
      "9557  PLMD-48993            F8VPN4       334  Malonylation   \n",
      "9558  PLMD-48993            F8VPN4       376  Malonylation   \n",
      "9559  PLMD-48993            F8VPN4       422  Malonylation   \n",
      "9560  PLMD-48993            F8VPN4         5  Malonylation   \n",
      "9561  PLMD-48993            F8VPN4       511  Malonylation   \n",
      "9562  PLMD-48993            F8VPN4       761  Malonylation   \n",
      "9563  PLMD-49003            F8VQC1       201  Malonylation   \n",
      "9564  PLMD-49003            F8VQC1       287  Malonylation   \n",
      "9565  PLMD-49003            F8VQC1       297  Malonylation   \n",
      "9566  PLMD-49003            F8VQC1        36  Malonylation   \n",
      "9567  PLMD-49003            F8VQC1       383  Malonylation   \n",
      "9568  PLMD-49003            F8VQC1       391  Malonylation   \n",
      "9569  PLMD-49003            F8VQC1       475  Malonylation   \n",
      "9570  PLMD-49003            F8VQC1       504  Malonylation   \n",
      "9571  PLMD-49218            G3X982      1104  Malonylation   \n",
      "9572  PLMD-49218            G3X982       200  Malonylation   \n",
      "9573  PLMD-49218            G3X982       330  Malonylation   \n",
      "9574  PLMD-49218            G3X982       342  Malonylation   \n",
      "9575  PLMD-49218            G3X982       860  Malonylation   \n",
      "9576  PLMD-49218            G3X982       987  Malonylation   \n",
      "9577  PLMD-49226            G3X9Y6       101  Malonylation   \n",
      "9578  PLMD-49226            G3X9Y6       175  Malonylation   \n",
      "9579  PLMD-49226            G3X9Y6       201  Malonylation   \n",
      "9580  PLMD-49226            G3X9Y6       273  Malonylation   \n",
      "9581  PLMD-49226            G3X9Y6         4  Malonylation   \n",
      "9582  PLMD-49226            G3X9Y6        75  Malonylation   \n",
      "9583  PLMD-51806            J3QM43        62  Malonylation   \n",
      "\n",
      "                                               Sequence       Species  \\\n",
      "0     MAEAAAAAGGTGLGAGASYGSAADRDRDPDPDRAGRRLRVLSGHLL...  Homo sapiens   \n",
      "1     MATANFGKIQIGIYVEIKRSDGRIHQAMVTSLNEDNESVTVEWIEN...  Homo sapiens   \n",
      "2     MTTQQIDLQGPGPWGFRLVGGKDFEQPLAISRVTPGSKAALANLCI...  Homo sapiens   \n",
      "3     MTTQQIDLQGPGPWGFRLVGGKDFEQPLAISRVTPGSKAALANLCI...  Homo sapiens   \n",
      "4     MKLLARALRLCEFGRQASSRRLVAGQGCVGPRRGCCAPVQVVGPRA...  Homo sapiens   \n",
      "5     MKLLARALRLCEFGRQASSRRLVAGQGCVGPRRGCCAPVQVVGPRA...  Homo sapiens   \n",
      "6     MALQVELVPTGEIIRVVHPHRPCKLALGSDGVRVTMESALTARDRV...  Homo sapiens   \n",
      "7     MALQVELVPTGEIIRVVHPHRPCKLALGSDGVRVTMESALTARDRV...  Homo sapiens   \n",
      "8     MALQVELVPTGEIIRVVHPHRPCKLALGSDGVRVTMESALTARDRV...  Homo sapiens   \n",
      "9     MALQVELVPTGEIIRVVHPHRPCKLALGSDGVRVTMESALTARDRV...  Homo sapiens   \n",
      "10    MALQVELVPTGEIIRVVHPHRPCKLALGSDGVRVTMESALTARDRV...  Homo sapiens   \n",
      "11    MALQVELVPTGEIIRVVHPHRPCKLALGSDGVRVTMESALTARDRV...  Homo sapiens   \n",
      "12    MALQVELVPTGEIIRVVHPHRPCKLALGSDGVRVTMESALTARDRV...  Homo sapiens   \n",
      "13    MADIIARLREDGIQKRVIQEGRGELPDFQDGTKATFHYRTLHSDDE...  Homo sapiens   \n",
      "14    MADIIARLREDGIQKRVIQEGRGELPDFQDGTKATFHYRTLHSDDE...  Homo sapiens   \n",
      "15    MAPPVAERGLKSVVWQKIKATVFDDCKKEGEWKIMLLDEFTTKLLA...  Homo sapiens   \n",
      "16    MAPPVAERGLKSVVWQKIKATVFDDCKKEGEWKIMLLDEFTTKLLA...  Homo sapiens   \n",
      "17    MAPPVAERGLKSVVWQKIKATVFDDCKKEGEWKIMLLDEFTTKLLA...  Homo sapiens   \n",
      "18    MAPPVAERGLKSVVWQKIKATVFDDCKKEGEWKIMLLDEFTTKLLA...  Homo sapiens   \n",
      "19    MSAARESHPHGVKRSASPDDDLGSSNWEAADLGNEERKQKFLRLMG...  Homo sapiens   \n",
      "20    MSSNSFPYNEQSGGGEATELGQEATSTISPSGAFGLFSSDLKKNED...  Homo sapiens   \n",
      "21    MSSNSFPYNEQSGGGEATELGQEATSTISPSGAFGLFSSDLKKNED...  Homo sapiens   \n",
      "22    MSSNSFPYNEQSGGGEATELGQEATSTISPSGAFGLFSSDLKKNED...  Homo sapiens   \n",
      "23    MSSNSFPYNEQSGGGEATELGQEATSTISPSGAFGLFSSDLKKNED...  Homo sapiens   \n",
      "24    MSSNSFPYNEQSGGGEATELGQEATSTISPSGAFGLFSSDLKKNED...  Homo sapiens   \n",
      "25    MSSNSFPYNEQSGGGEATELGQEATSTISPSGAFGLFSSDLKKNED...  Homo sapiens   \n",
      "26    MSSNSFPYNEQSGGGEATELGQEATSTISPSGAFGLFSSDLKKNED...  Homo sapiens   \n",
      "27    MSSNSFPYNEQSGGGEATELGQEATSTISPSGAFGLFSSDLKKNED...  Homo sapiens   \n",
      "28    MAAAAVVEFQRAQSLLSTDREASIDILHSIVKRDIQENDEEAVQVK...  Homo sapiens   \n",
      "29    MADGGSERADGRIVKMEVDYSATVDQRLPECAKLAKEGRLQEVIET...  Homo sapiens   \n",
      "...                                                 ...           ...   \n",
      "9554  MEHSKQIRILLLNEMEKLEKTLFRLEQGFELQFRLGPTLQGKAVTV...  Mus musculus   \n",
      "9555  MEHSKQIRILLLNEMEKLEKTLFRLEQGFELQFRLGPTLQGKAVTV...  Mus musculus   \n",
      "9556  MEHSKQIRILLLNEMEKLEKTLFRLEQGFELQFRLGPTLQGKAVTV...  Mus musculus   \n",
      "9557  MEHSKQIRILLLNEMEKLEKTLFRLEQGFELQFRLGPTLQGKAVTV...  Mus musculus   \n",
      "9558  MEHSKQIRILLLNEMEKLEKTLFRLEQGFELQFRLGPTLQGKAVTV...  Mus musculus   \n",
      "9559  MEHSKQIRILLLNEMEKLEKTLFRLEQGFELQFRLGPTLQGKAVTV...  Mus musculus   \n",
      "9560  MEHSKQIRILLLNEMEKLEKTLFRLEQGFELQFRLGPTLQGKAVTV...  Mus musculus   \n",
      "9561  MEHSKQIRILLLNEMEKLEKTLFRLEQGFELQFRLGPTLQGKAVTV...  Mus musculus   \n",
      "9562  MEHSKQIRILLLNEMEKLEKTLFRLEQGFELQFRLGPTLQGKAVTV...  Mus musculus   \n",
      "9563  MASGGSGGVSVPALWSEVNRYGQNSDFTRALKTVNKILQINKDDVT...  Mus musculus   \n",
      "9564  MASGGSGGVSVPALWSEVNRYGQNSDFTRALKTVNKILQINKDDVT...  Mus musculus   \n",
      "9565  MASGGSGGVSVPALWSEVNRYGQNSDFTRALKTVNKILQINKDDVT...  Mus musculus   \n",
      "9566  MASGGSGGVSVPALWSEVNRYGQNSDFTRALKTVNKILQINKDDVT...  Mus musculus   \n",
      "9567  MASGGSGGVSVPALWSEVNRYGQNSDFTRALKTVNKILQINKDDVT...  Mus musculus   \n",
      "9568  MASGGSGGVSVPALWSEVNRYGQNSDFTRALKTVNKILQINKDDVT...  Mus musculus   \n",
      "9569  MASGGSGGVSVPALWSEVNRYGQNSDFTRALKTVNKILQINKDDVT...  Mus musculus   \n",
      "9570  MASGGSGGVSVPALWSEVNRYGQNSDFTRALKTVNKILQINKDDVT...  Mus musculus   \n",
      "9571  MSPSKESDELIFFVNGKKVTERNADPEVNLLFYLRKVIRLTGTKYG...  Mus musculus   \n",
      "9572  MSPSKESDELIFFVNGKKVTERNADPEVNLLFYLRKVIRLTGTKYG...  Mus musculus   \n",
      "9573  MSPSKESDELIFFVNGKKVTERNADPEVNLLFYLRKVIRLTGTKYG...  Mus musculus   \n",
      "9574  MSPSKESDELIFFVNGKKVTERNADPEVNLLFYLRKVIRLTGTKYG...  Mus musculus   \n",
      "9575  MSPSKESDELIFFVNGKKVTERNADPEVNLLFYLRKVIRLTGTKYG...  Mus musculus   \n",
      "9576  MSPSKESDELIFFVNGKKVTERNADPEVNLLFYLRKVIRLTGTKYG...  Mus musculus   \n",
      "9577  MSSKQQCVKLNDGNFIPALGFGTYKPEEVNENKPLEAIHLALEAGF...  Mus musculus   \n",
      "9578  MSSKQQCVKLNDGNFIPALGFGTYKPEEVNENKPLEAIHLALEAGF...  Mus musculus   \n",
      "9579  MSSKQQCVKLNDGNFIPALGFGTYKPEEVNENKPLEAIHLALEAGF...  Mus musculus   \n",
      "9580  MSSKQQCVKLNDGNFIPALGFGTYKPEEVNENKPLEAIHLALEAGF...  Mus musculus   \n",
      "9581  MSSKQQCVKLNDGNFIPALGFGTYKPEEVNENKPLEAIHLALEAGF...  Mus musculus   \n",
      "9582  MSSKQQCVKLNDGNFIPALGFGTYKPEEVNENKPLEAIHLALEAGF...  Mus musculus   \n",
      "9583  MPKRKAEGDGKGDKTKVKDEPQRRSARLSAKPAPPKPEPKPKKAPA...  Mus musculus   \n",
      "\n",
      "                  PMIDs  \n",
      "0              26320211  \n",
      "1              26320211  \n",
      "2              26320211  \n",
      "3              26320211  \n",
      "4              26320211  \n",
      "5              26320211  \n",
      "6              26320211  \n",
      "7              26320211  \n",
      "8              26320211  \n",
      "9              26320211  \n",
      "10             26320211  \n",
      "11             26320211  \n",
      "12             26320211  \n",
      "13             26320211  \n",
      "14             26320211  \n",
      "15             26320211  \n",
      "16             26320211  \n",
      "17             26320211  \n",
      "18             26320211  \n",
      "19             26320211  \n",
      "20             26320211  \n",
      "21             26320211  \n",
      "22             26320211  \n",
      "23             26320211  \n",
      "24             26320211  \n",
      "25             26320211  \n",
      "26             26320211  \n",
      "27             26320211  \n",
      "28             26320211  \n",
      "29             26320211  \n",
      "...                 ...  \n",
      "9554           26320211  \n",
      "9555           26320211  \n",
      "9556           26320211  \n",
      "9557  25418362;26320211  \n",
      "9558           26320211  \n",
      "9559           26320211  \n",
      "9560           26320211  \n",
      "9561  25418362;26320211  \n",
      "9562           26320211  \n",
      "9563           26320211  \n",
      "9564           26320211  \n",
      "9565           26320211  \n",
      "9566           26320211  \n",
      "9567           26320211  \n",
      "9568           26320211  \n",
      "9569           26320211  \n",
      "9570           26320211  \n",
      "9571  25418362;26320211  \n",
      "9572           26320211  \n",
      "9573           26320211  \n",
      "9574           26320211  \n",
      "9575           26320211  \n",
      "9576           26320211  \n",
      "9577           26320211  \n",
      "9578           26320211  \n",
      "9579           26320211  \n",
      "9580  25418362;26320211  \n",
      "9581           26320211  \n",
      "9582           26320211  \n",
      "9583           26320211  \n",
      "\n",
      "[9584 rows x 7 columns]\n"
     ]
    }
   ],
   "source": [
    "#dataset.head(5)\n",
    "print(dataset)"
   ]
  },
  {
   "cell_type": "code",
   "execution_count": 21,
   "metadata": {},
   "outputs": [],
   "source": [
    "df = dataset.loc[dataset['Species'] == 'Mus musculus']"
   ]
  },
  {
   "cell_type": "code",
   "execution_count": 22,
   "metadata": {},
   "outputs": [
    {
     "data": {
      "text/plain": [
       "(4390, 7)"
      ]
     },
     "execution_count": 22,
     "metadata": {},
     "output_type": "execute_result"
    }
   ],
   "source": [
    "df.shape"
   ]
  },
  {
   "cell_type": "code",
   "execution_count": 23,
   "metadata": {},
   "outputs": [],
   "source": [
    "df.to_excel('Mus musculus.xlsx')"
   ]
  }
 ],
 "metadata": {
  "colab": {
   "collapsed_sections": [],
   "name": "Malonylation_EDipeptide.ipynb",
   "provenance": [],
   "toc_visible": true
  },
  "kernelspec": {
   "display_name": "Python 3",
   "language": "python",
   "name": "python3"
  },
  "language_info": {
   "codemirror_mode": {
    "name": "ipython",
    "version": 3
   },
   "file_extension": ".py",
   "mimetype": "text/x-python",
   "name": "python",
   "nbconvert_exporter": "python",
   "pygments_lexer": "ipython3",
   "version": "3.7.3"
  }
 },
 "nbformat": 4,
 "nbformat_minor": 1
}
